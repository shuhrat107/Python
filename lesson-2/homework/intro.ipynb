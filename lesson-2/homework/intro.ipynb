print("Hello" + "World")

a = "'bdshbcd'"
a

7 // 2

{'a': 1, 'b': 2}.get('c', 3)

while False:
     print("Hello")

len({'a': 1, 'b': 2, 'c': 3})
    
