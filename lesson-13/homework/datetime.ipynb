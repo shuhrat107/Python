from datetime import time,date,datetime,timedelta
birthdate = input('enter your birthdate as dd/m/yyyy ')
birthdate_obj = datetime.strptime(birthdate, "%d/%m/%Y")
now = datetime.today()
age = now - birthdate_obj
age.days

  from datetime import datetime, date
birthdate = input("Enter your birthdate (dd/mm/yyyy): ")
birthdate_obj = datetime.strptime(birthdate, "%d/%m/%Y").date()
today = date.today()
age = today.year - birthdate_obj.year
if (today.month, today.day) < (birthdate_obj.month, birthdate_obj.day):
    age -= 1

print(f"You are {age} years old.")


    from datetime import datetime, date
birthdate = input("Enter your birthdate (dd/mm/yyyy): ")
birthdate_obj = datetime.strptime(birthdate, "%d/%m/%Y").date()
today = date.today()
age = today - birthdate_obj
date.today() = age 


      from datetime import datetime, date

birthdate = input("Enter your birthdate (dd/mm/yyyy): ")
birthdate_obj = datetime.strptime(birthdate, "%d/%m/%Y").date()
today = date.today()

years = today.year - birthdate_obj.year
months = today.month - birthdate_obj.month
days = today.day - birthdate_obj.day

if days < 0:
    months -= 1
    days += (date(today.year, today.month, 1) - date(today.year, today.month - 1, 1)).days

if months < 0:
    years -= 1
    months += 12

print(f"You are {years} years, {months} months, and {days} days old.")

next_birthday = date(today.year, birthdate_obj.month, birthdate_obj.day)
if next_birthday < today:
    next_birthday = date(today.year + 1, birthdate_obj.month, birthdate_obj.day)

days_until_birthday = (next_birthday - today).days
print(f"Your next birthday is in {days_until_birthday} days.")




        import pytz
utc_now = datetime.now(pytz.utc)
print("UTC Time:", utc_now)
ny = 'America/New_york'

"Europe/London"
"Asia/Tokyo"
"Australia/Sydney"
"Africa/Johannesburg"
current= pytz.timezone(input("Europe/London"

   "Asia/Tokyo"

   "Australia/Sydney"

   "Africa/Johannesburg"))
tz_NY = datetime.now(current)
print(tz_NY)


        #countdown timer
# 16/17/26
inputdate= input( 'day/time')
date_obj = datetime.strptime( inputdate,"%d/%H/%M").date()
date_obj

        

